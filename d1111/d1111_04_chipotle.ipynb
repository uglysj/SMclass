{
 "cells": [
  {
   "cell_type": "code",
   "execution_count": 1,
   "metadata": {},
   "outputs": [],
   "source": [
    "import pandas as pd\n",
    "df = pd.read_csv('chipotle.tsv', sep='\\t')"
   ]
  },
  {
   "cell_type": "code",
   "execution_count": null,
   "metadata": {},
   "outputs": [
    {
     "data": {
      "text/plain": [
       "item_name\n",
       "Chicken Bowl                             726\n",
       "Chicken Burrito                          553\n",
       "Chips and Guacamole                      479\n",
       "Steak Burrito                            368\n",
       "Canned Soft Drink                        301\n",
       "Chips                                    211\n",
       "Steak Bowl                               211\n",
       "Bottled Water                            162\n",
       "Chicken Soft Tacos                       115\n",
       "Chips and Fresh Tomato Salsa             110\n",
       "Chicken Salad Bowl                       110\n",
       "Canned Soda                              104\n",
       "Side of Chips                            101\n",
       "Veggie Burrito                            95\n",
       "Barbacoa Burrito                          91\n",
       "Veggie Bowl                               85\n",
       "Carnitas Bowl                             68\n",
       "Barbacoa Bowl                             66\n",
       "Carnitas Burrito                          59\n",
       "Steak Soft Tacos                          55\n",
       "6 Pack Soft Drink                         54\n",
       "Chips and Tomatillo Red Chili Salsa       48\n",
       "Chicken Crispy Tacos                      47\n",
       "Chips and Tomatillo Green Chili Salsa     43\n",
       "Carnitas Soft Tacos                       40\n",
       "Steak Crispy Tacos                        35\n",
       "Chips and Tomatillo-Green Chili Salsa     31\n",
       "Steak Salad Bowl                          29\n",
       "Nantucket Nectar                          27\n",
       "Barbacoa Soft Tacos                       25\n",
       "Chips and Roasted Chili Corn Salsa        22\n",
       "Izze                                      20\n",
       "Chips and Tomatillo-Red Chili Salsa       20\n",
       "Veggie Salad Bowl                         18\n",
       "Chips and Roasted Chili-Corn Salsa        18\n",
       "Barbacoa Crispy Tacos                     11\n",
       "Barbacoa Salad Bowl                       10\n",
       "Chicken Salad                              9\n",
       "Veggie Soft Tacos                          7\n",
       "Carnitas Crispy Tacos                      7\n",
       "Burrito                                    6\n",
       "Carnitas Salad Bowl                        6\n",
       "Veggie Salad                               6\n",
       "Steak Salad                                4\n",
       "Crispy Tacos                               2\n",
       "Bowl                                       2\n",
       "Salad                                      2\n",
       "Chips and Mild Fresh Tomato Salsa          1\n",
       "Veggie Crispy Tacos                        1\n",
       "Carnitas Salad                             1\n",
       "Name: count, dtype: int64"
      ]
     },
     "execution_count": 9,
     "metadata": {},
     "output_type": "execute_result"
    }
   ],
   "source": [
    "### item_name 그룹별로 개수확인\n",
    "# df.groupby('item_name')['order_id'].count() # 그룹화를 해서 출력\n",
    "# df['item_name'].value_counts().sort_values() # 순차정렬\n",
    "df['item_name'].value_counts().sort_values(ascending=False) # 역순정렬\n",
    "df['item_name'].value_counts() # 자동정렬"
   ]
  },
  {
   "cell_type": "code",
   "execution_count": null,
   "metadata": {},
   "outputs": [
    {
     "data": {
      "text/plain": [
       "'Chicken Bowl'"
      ]
     },
     "execution_count": 12,
     "metadata": {},
     "output_type": "execute_result"
    }
   ],
   "source": [
    "# 전체 item_name 개수 확인\n",
    "df['item_name'].value_counts()\n",
    "# index[0]: 1번째 리스트 제목을 출력\n",
    "df['item_name'].value_counts().index[0]"
   ]
  },
  {
   "cell_type": "code",
   "execution_count": null,
   "metadata": {},
   "outputs": [
    {
     "data": {
      "text/plain": [
       "[('Chicken Bowl', 726),\n",
       " ('Chicken Burrito', 553),\n",
       " ('Chips and Guacamole', 479),\n",
       " ('Steak Burrito', 368),\n",
       " ('Canned Soft Drink', 301),\n",
       " ('Chips', 211),\n",
       " ('Steak Bowl', 211),\n",
       " ('Bottled Water', 162),\n",
       " ('Chicken Soft Tacos', 115),\n",
       " ('Chips and Fresh Tomato Salsa', 110),\n",
       " ('Chicken Salad Bowl', 110),\n",
       " ('Canned Soda', 104),\n",
       " ('Side of Chips', 101),\n",
       " ('Veggie Burrito', 95),\n",
       " ('Barbacoa Burrito', 91),\n",
       " ('Veggie Bowl', 85),\n",
       " ('Carnitas Bowl', 68),\n",
       " ('Barbacoa Bowl', 66),\n",
       " ('Carnitas Burrito', 59),\n",
       " ('Steak Soft Tacos', 55),\n",
       " ('6 Pack Soft Drink', 54),\n",
       " ('Chips and Tomatillo Red Chili Salsa', 48),\n",
       " ('Chicken Crispy Tacos', 47),\n",
       " ('Chips and Tomatillo Green Chili Salsa', 43),\n",
       " ('Carnitas Soft Tacos', 40),\n",
       " ('Steak Crispy Tacos', 35),\n",
       " ('Chips and Tomatillo-Green Chili Salsa', 31),\n",
       " ('Steak Salad Bowl', 29),\n",
       " ('Nantucket Nectar', 27),\n",
       " ('Barbacoa Soft Tacos', 25),\n",
       " ('Chips and Roasted Chili Corn Salsa', 22),\n",
       " ('Izze', 20),\n",
       " ('Chips and Tomatillo-Red Chili Salsa', 20),\n",
       " ('Veggie Salad Bowl', 18),\n",
       " ('Chips and Roasted Chili-Corn Salsa', 18),\n",
       " ('Barbacoa Crispy Tacos', 11),\n",
       " ('Barbacoa Salad Bowl', 10),\n",
       " ('Chicken Salad', 9),\n",
       " ('Veggie Soft Tacos', 7),\n",
       " ('Carnitas Crispy Tacos', 7),\n",
       " ('Burrito', 6),\n",
       " ('Carnitas Salad Bowl', 6),\n",
       " ('Veggie Salad', 6),\n",
       " ('Steak Salad', 4),\n",
       " ('Crispy Tacos', 2),\n",
       " ('Bowl', 2),\n",
       " ('Salad', 2),\n",
       " ('Chips and Mild Fresh Tomato Salsa', 1),\n",
       " ('Veggie Crispy Tacos', 1),\n",
       " ('Carnitas Salad', 1)]"
      ]
     },
     "execution_count": 10,
     "metadata": {},
     "output_type": "execute_result"
    }
   ],
   "source": [
    "# items(): item_name, 개수를 튜플형태로 리턴해줌.\n",
    "list(df['item_name'].value_counts().items())"
   ]
  },
  {
   "cell_type": "code",
   "execution_count": null,
   "metadata": {},
   "outputs": [
    {
     "data": {
      "text/plain": [
       "Index(['order_id', 'quantity', 'item_name', 'choice_description',\n",
       "       'item_price'],\n",
       "      dtype='object')"
      ]
     },
     "execution_count": 13,
     "metadata": {},
     "output_type": "execute_result"
    }
   ],
   "source": [
    "df.columns\n",
    "# 주문번호, 주문수량, 메뉴명, 추가옵션, 메뉴별 금액\n",
    "# 'order_id', 'quantity', 'item_name', 'choice_description', 'item_price'"
   ]
  },
  {
   "cell_type": "code",
   "execution_count": null,
   "metadata": {},
   "outputs": [],
   "source": [
    "## 메뉴별 주문 수량 체크\n",
    "\n",
    "## 주문 평균 금액 체크"
   ]
  },
  {
   "cell_type": "code",
   "execution_count": 35,
   "metadata": {},
   "outputs": [
    {
     "data": {
      "text/plain": [
       "item_name\n",
       "Chicken Bowl           726\n",
       "Chicken Burrito        553\n",
       "Chips and Guacamole    479\n",
       "Steak Burrito          368\n",
       "Canned Soft Drink      301\n",
       "Name: count, dtype: int64"
      ]
     },
     "execution_count": 35,
     "metadata": {},
     "output_type": "execute_result"
    }
   ],
   "source": [
    "## 메뉴별 주문 수량 체크\n",
    "df['item_name'].value_counts().head(5)"
   ]
  },
  {
   "cell_type": "code",
   "execution_count": null,
   "metadata": {},
   "outputs": [
    {
     "data": {
      "text/plain": [
       "np.int64(761)"
      ]
     },
     "execution_count": 39,
     "metadata": {},
     "output_type": "execute_result"
    }
   ],
   "source": [
    "### 주문 메뉴 Chicken Bowl 인 quantity 합계\n",
    "# filt = df['item_name'].str.contains('Chicken Bowl')\n",
    "# df.loc[filt, 'quantity'].sum()\n",
    "df[df['item_name'] == 'Chicken Bowl']['quantity'].sum()"
   ]
  },
  {
   "cell_type": "code",
   "execution_count": null,
   "metadata": {},
   "outputs": [],
   "source": [
    "df.groupby('item_name')['quantity'].sum().sort_values(ascending=False)"
   ]
  },
  {
   "cell_type": "code",
   "execution_count": null,
   "metadata": {},
   "outputs": [
    {
     "data": {
      "text/plain": [
       "np.float64(18.811428571428568)"
      ]
     },
     "execution_count": 87,
     "metadata": {},
     "output_type": "execute_result"
    }
   ],
   "source": [
    "## 주문 평균 금액을 체크\n",
    "## 1. item_price -> float 변환\n",
    "# df['item_price'] = df['item_price'].str[1:].astype(float)\n",
    "# df['item_price'] = df['item_price'].str.replace('$', '').astype(float)\n",
    "## 2. order_id 그룹화\n",
    "df.groupby('order_id')['item_price']\n",
    "## 3. order_id로 합계를 낸 후, 평균을 해야함.\n",
    "df.groupby('order_id')['item_price'].sum().mean()"
   ]
  },
  {
   "cell_type": "code",
   "execution_count": null,
   "metadata": {},
   "outputs": [
    {
     "data": {
      "text/plain": [
       "(4622, 5)"
      ]
     },
     "execution_count": 79,
     "metadata": {},
     "output_type": "execute_result"
    }
   ],
   "source": [
    "# 총주문 수량을 출력하시오.\n",
    "len(df['order_id'].unique()) # 1834개 주문이 들어옴\n",
    "df.shape"
   ]
  },
  {
   "cell_type": "code",
   "execution_count": 113,
   "metadata": {},
   "outputs": [
    {
     "data": {
      "text/plain": [
       "item_price    50\n",
       "dtype: int64"
      ]
     },
     "execution_count": 113,
     "metadata": {},
     "output_type": "execute_result"
    }
   ],
   "source": [
    "### 각 아이템별 가격을 구하시오.\n",
    "### 주문이 1개인 메뉴를 먼저 출력\n",
    "filt = df['quantity'] == 1\n",
    "df[filt].groupby('item_name')[['item_price']].min().count()"
   ]
  },
  {
   "cell_type": "code",
   "execution_count": 148,
   "metadata": {},
   "outputs": [
    {
     "data": {
      "text/plain": [
       "np.int64(589)"
      ]
     },
     "execution_count": 148,
     "metadata": {},
     "output_type": "execute_result"
    }
   ],
   "source": [
    "## 한 주문당 20달러 이상 주문한 order_id를 출력\n",
    "df_s = df.groupby('order_id').sum()['item_price'].sort_values(ascending=False)\n",
    "filt = df.groupby('order_id').sum()['item_price'].sort_values(ascending=False) >= 20\n",
    "df_s.loc[filt].count()"
   ]
  },
  {
   "cell_type": "code",
   "execution_count": 146,
   "metadata": {},
   "outputs": [
    {
     "data": {
      "text/plain": [
       "order_id              18\n",
       "quantity              18\n",
       "item_name             18\n",
       "choice_description    18\n",
       "item_price            18\n",
       "dtype: int64"
      ]
     },
     "execution_count": 146,
     "metadata": {},
     "output_type": "execute_result"
    }
   ],
   "source": [
    "#### Veggie Salad Bowl\n",
    "filt = df['item_name'] == 'Veggie Salad Bowl'\n",
    "df.loc[filt].count()"
   ]
  },
  {
   "cell_type": "code",
   "execution_count": null,
   "metadata": {},
   "outputs": [],
   "source": [
    "# Chicken Salad Bowl 몇개 주문되었는지 출력\n",
    "# filt = df['item_name'] == 'Chicken Salad Bowl'\n",
    "# df[filt]['quantity'].count()\n",
    "# 주문 총수량\n",
    "# df[filt]['quantity'].sum()\n",
    "# df[filt]['quantity'].sort_values(ascending=False).head(30)"
   ]
  },
  {
   "cell_type": "code",
   "execution_count": null,
   "metadata": {},
   "outputs": [
    {
     "data": {
      "text/plain": [
       "np.int64(761)"
      ]
     },
     "execution_count": 10,
     "metadata": {},
     "output_type": "execute_result"
    }
   ],
   "source": [
    "# Chicken Bowl 2개 이상 주문한 횟수를 출력\n",
    "# filt = (df['item_name'] == 'Chicken Bowl') & (df['quantity'] >= 2)\n",
    "# df[filt][['quantity', 'item_name']].sort_values('quantity', ascending=False)\n",
    "filt = (df['item_name'] == 'Chicken Bowl')\n",
    "df[filt][['quantity', 'item_name']].sort_values('quantity', ascending=False).count()\n",
    "df[filt]['quantity'].count() # 726 1, 1, 1, 1, 1, 1 .....\n",
    "df[filt]['quantity'].sum() # 761 1, 2, 1, 3, 1, 1, 1 ....."
   ]
  },
  {
   "cell_type": "code",
   "execution_count": null,
   "metadata": {},
   "outputs": [
    {
     "data": {
      "text/plain": [
       "order_id              726\n",
       "quantity              726\n",
       "item_name             726\n",
       "choice_description    726\n",
       "item_price            726\n",
       "dtype: int64"
      ]
     },
     "execution_count": 13,
     "metadata": {},
     "output_type": "execute_result"
    }
   ],
   "source": [
    "filt = df['item_name'] == 'Chicken Bowl'\n",
    "df[filt].count()\n",
    "\n",
    "df['item_name'].value_counts()"
   ]
  }
 ],
 "metadata": {
  "kernelspec": {
   "display_name": "Python 3",
   "language": "python",
   "name": "python3"
  },
  "language_info": {
   "codemirror_mode": {
    "name": "ipython",
    "version": 3
   },
   "file_extension": ".py",
   "mimetype": "text/x-python",
   "name": "python",
   "nbconvert_exporter": "python",
   "pygments_lexer": "ipython3",
   "version": "3.12.6"
  }
 },
 "nbformat": 4,
 "nbformat_minor": 2
}
