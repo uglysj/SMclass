{
 "cells": [
  {
   "cell_type": "markdown",
   "metadata": {},
   "source": [
    "[영화순위]\n",
    "1. 2020년 ~ 2023년 영화\n",
    "- csv 파일로 저장\n",
    "- 이미지 저장\n",
    "- 제목, 관객수, 날짜\n",
    "\n",
    "2. DataFrame 변경\n",
    "- 관객수\n",
    "- 최댓값\n",
    "- 최솟값\n",
    "- 평균\n",
    "- 최대관객수 5개\n",
    "- 최소관객수 5개"
   ]
  },
  {
   "cell_type": "code",
   "execution_count": 33,
   "metadata": {},
   "outputs": [],
   "source": [
    "import requests\n",
    "import pandas as pd\n",
    "from bs4 import BeautifulSoup\n",
    "\n",
    "movie = {}\n",
    "movie['제목'] = []\n",
    "movie['관객수'] = []\n",
    "movie['날짜'] = []\n",
    "\n",
    "headers = {\"User-Agent\":\"Mozilla/5.0 (Windows NT 10.0; Win64; x64) AppleWebKit/537.36 (KHTML, like Gecko) Chrome/130.0.0.0 Safari/537.36\", 'Accept-Language' : 'ko-KR,ko;q=0.9,en-US;q=0.8,en;q=0.7'}\n",
    "for i in range(2020, 2024):\n",
    "  url = f'https://search.daum.net/search?w=tot&q={i}%EB%85%84%EC%98%81%ED%99%94%EC%88%9C%EC%9C%84&DA=MOR&rtmaxcoll=MOR'\n",
    "  res = requests.get(url, headers=headers)\n",
    "  res.raise_for_status()\n",
    "\n",
    "  soup = BeautifulSoup(res.text, 'lxml')\n",
    "  data = soup.select_one('#mor_history_id_0')\n",
    "  titles = data.select('c-title')\n",
    "  contents = data.select('c-contents-desc')\n",
    "  dates = data.select('c-contents-desc-sub')\n",
    "  for i in range(10):\n",
    "    movie['제목'].append(titles[i].next.strip())\n",
    "    movie['관객수'].append(int(contents[i].next.strip().replace(',','')[3:-2]))\n",
    "    movie['날짜'].append(dates[i].next.strip())\n",
    "\n",
    "df = pd.DataFrame(movie, index=['1번', '2번', '3번', '4번', '5번', '6번', '7번', '8번', '9번', '10번',\n",
    "                                '11번', '12번', '13번', '14번', '15번', '16번', '17번', '18번', '19번', '20번',\n",
    "                                '21번', '22번', '23번', '24번', '25번', '26번', '27번', '28번', '29번', '30번',\n",
    "                                '31번', '32번', '33번', '34번', '35번', '36번', '37번', '38번', '39번', '40번'])\n",
    "df.index.name = '번호'\n",
    "df.to_csv('movie.csv', encoding='utf-8-sig')"
   ]
  },
  {
   "cell_type": "code",
   "execution_count": 38,
   "metadata": {},
   "outputs": [
    {
     "data": {
      "text/plain": [
       "9     160\n",
       "8     171\n",
       "19    174\n",
       "7     179\n",
       "6     190\n",
       "Name: 관객수, dtype: int64"
      ]
     },
     "execution_count": 38,
     "metadata": {},
     "output_type": "execute_result"
    }
   ],
   "source": [
    "df1 = pd.read_csv('movie.csv', encoding='utf-8')\n",
    "df1['관객수'].max()\n",
    "df1['관객수'].min()\n",
    "df1['관객수'].mean()\n",
    "df1['관객수'].nlargest()\n",
    "df1['관객수'].nsmallest()"
   ]
  }
 ],
 "metadata": {
  "kernelspec": {
   "display_name": "Python 3",
   "language": "python",
   "name": "python3"
  },
  "language_info": {
   "codemirror_mode": {
    "name": "ipython",
    "version": 3
   },
   "file_extension": ".py",
   "mimetype": "text/x-python",
   "name": "python",
   "nbconvert_exporter": "python",
   "pygments_lexer": "ipython3",
   "version": "3.12.6"
  }
 },
 "nbformat": 4,
 "nbformat_minor": 2
}
