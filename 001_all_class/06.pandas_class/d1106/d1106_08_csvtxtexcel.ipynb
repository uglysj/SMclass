{
 "cells": [
  {
   "cell_type": "code",
   "execution_count": 1,
   "metadata": {},
   "outputs": [],
   "source": [
    "import pandas as pd\n",
    "data = {\n",
    "  '이름': ['강나래', '강태원', '강호림', '김수찬', '김재욱', '박동현', '박혜정', '승근열'],\n",
    "  '학교': ['구로고', '구로고', '가산고', '구로고', '가산고', '가산고', '구로고', '구로고'],\n",
    "  '키': [197, 184, 168, 187, 188, 202, 188, 190],\n",
    "  '국어': [90, 40, 80, 40, 15, 80, 55, 100],\n",
    "  '영어': [85, 35, 75, 60, 20, 100, 65, 85],\n",
    "  '수학': [100, 50, 70, 70, 10, 95, 45, 90],\n",
    "  '사회': [85, 25, 75, 80, 10, 80, 35, 95],\n",
    "  'SW특기': ['Python', 'Java', 'Javascript', '', '', 'C', 'Python', 'C#']\n",
    "}\n",
    "df = pd.DataFrame(data, index=['1번', '2번', '3번', '4번', '5번', '6번', '7번', '8번'])\n",
    "df.index.name = '지원번호'"
   ]
  },
  {
   "cell_type": "markdown",
   "metadata": {},
   "source": [
    "파일저장: csv, txt, excel 3가지 방식"
   ]
  },
  {
   "cell_type": "code",
   "execution_count": 2,
   "metadata": {},
   "outputs": [],
   "source": [
    "# csv 파일로 저장: excel 확인 시 한글설정 utf-8-sig설정\n",
    "df.to_csv('score.csv', encoding='UTF-8-sig')"
   ]
  },
  {
   "cell_type": "code",
   "execution_count": 3,
   "metadata": {},
   "outputs": [],
   "source": [
    "# index 번호 제외하고 저장\n",
    "df.to_csv('score.csv', encoding='utf-8-sig', index=False)"
   ]
  },
  {
   "cell_type": "code",
   "execution_count": 6,
   "metadata": {},
   "outputs": [],
   "source": [
    "# csv: comma-separated values, 구분자설정\n",
    "df.to_csv('score.csv', sep='\\t', encoding='utf-8-sig')"
   ]
  },
  {
   "cell_type": "code",
   "execution_count": 3,
   "metadata": {},
   "outputs": [],
   "source": [
    "# txt 파일 저장\n",
    "df.to_csv('score.txt', encoding='utf-8')"
   ]
  },
  {
   "cell_type": "code",
   "execution_count": 4,
   "metadata": {},
   "outputs": [],
   "source": [
    "# excel 파일 저장\n",
    "df.to_excel('score.xlsx')"
   ]
  }
 ],
 "metadata": {
  "kernelspec": {
   "display_name": "Python 3",
   "language": "python",
   "name": "python3"
  },
  "language_info": {
   "codemirror_mode": {
    "name": "ipython",
    "version": 3
   },
   "file_extension": ".py",
   "mimetype": "text/x-python",
   "name": "python",
   "nbconvert_exporter": "python",
   "pygments_lexer": "ipython3",
   "version": "3.12.6"
  }
 },
 "nbformat": 4,
 "nbformat_minor": 2
}
