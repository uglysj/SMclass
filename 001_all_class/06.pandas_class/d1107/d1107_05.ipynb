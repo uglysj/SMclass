{
 "cells": [
  {
   "cell_type": "code",
   "execution_count": 1,
   "metadata": {},
   "outputs": [],
   "source": [
    "import pandas as pd\n",
    "df = pd.read_excel('score.xlsx', index_col='지원번호')"
   ]
  },
  {
   "cell_type": "code",
   "execution_count": 4,
   "metadata": {},
   "outputs": [
    {
     "data": {
      "text/plain": [
       "지원번호\n",
       "3번    70\n",
       "4번    70\n",
       "5번    10\n",
       "6번    95\n",
       "Name: 수학, dtype: int64"
      ]
     },
     "execution_count": 4,
     "metadata": {},
     "output_type": "execute_result"
    }
   ],
   "source": [
    "df['키'][0:3]\n",
    "df['수학'][2:6]"
   ]
  },
  {
   "cell_type": "code",
   "execution_count": 5,
   "metadata": {},
   "outputs": [
    {
     "data": {
      "text/html": [
       "<div>\n",
       "<style scoped>\n",
       "    .dataframe tbody tr th:only-of-type {\n",
       "        vertical-align: middle;\n",
       "    }\n",
       "\n",
       "    .dataframe tbody tr th {\n",
       "        vertical-align: top;\n",
       "    }\n",
       "\n",
       "    .dataframe thead th {\n",
       "        text-align: right;\n",
       "    }\n",
       "</style>\n",
       "<table border=\"1\" class=\"dataframe\">\n",
       "  <thead>\n",
       "    <tr style=\"text-align: right;\">\n",
       "      <th></th>\n",
       "      <th>이름</th>\n",
       "      <th>수학</th>\n",
       "    </tr>\n",
       "    <tr>\n",
       "      <th>지원번호</th>\n",
       "      <th></th>\n",
       "      <th></th>\n",
       "    </tr>\n",
       "  </thead>\n",
       "  <tbody>\n",
       "    <tr>\n",
       "      <th>2번</th>\n",
       "      <td>강태원</td>\n",
       "      <td>50</td>\n",
       "    </tr>\n",
       "    <tr>\n",
       "      <th>3번</th>\n",
       "      <td>강호림</td>\n",
       "      <td>70</td>\n",
       "    </tr>\n",
       "    <tr>\n",
       "      <th>4번</th>\n",
       "      <td>김수찬</td>\n",
       "      <td>70</td>\n",
       "    </tr>\n",
       "    <tr>\n",
       "      <th>5번</th>\n",
       "      <td>김재욱</td>\n",
       "      <td>10</td>\n",
       "    </tr>\n",
       "  </tbody>\n",
       "</table>\n",
       "</div>"
      ],
      "text/plain": [
       "       이름  수학\n",
       "지원번호         \n",
       "2번    강태원  50\n",
       "3번    강호림  70\n",
       "4번    김수찬  70\n",
       "5번    김재욱  10"
      ]
     },
     "execution_count": 5,
     "metadata": {},
     "output_type": "execute_result"
    }
   ],
   "source": [
    "# 이름, 수학 2번째 부터 5번째까지 가져오기\n",
    "df[['이름', '수학']][1:5]"
   ]
  },
  {
   "cell_type": "code",
   "execution_count": null,
   "metadata": {},
   "outputs": [
    {
     "data": {
      "text/html": [
       "<div>\n",
       "<style scoped>\n",
       "    .dataframe tbody tr th:only-of-type {\n",
       "        vertical-align: middle;\n",
       "    }\n",
       "\n",
       "    .dataframe tbody tr th {\n",
       "        vertical-align: top;\n",
       "    }\n",
       "\n",
       "    .dataframe thead th {\n",
       "        text-align: right;\n",
       "    }\n",
       "</style>\n",
       "<table border=\"1\" class=\"dataframe\">\n",
       "  <thead>\n",
       "    <tr style=\"text-align: right;\">\n",
       "      <th></th>\n",
       "      <th>이름</th>\n",
       "      <th>학교</th>\n",
       "      <th>SW특기</th>\n",
       "    </tr>\n",
       "    <tr>\n",
       "      <th>지원번호</th>\n",
       "      <th></th>\n",
       "      <th></th>\n",
       "      <th></th>\n",
       "    </tr>\n",
       "  </thead>\n",
       "  <tbody>\n",
       "    <tr>\n",
       "      <th>1번</th>\n",
       "      <td>강나래</td>\n",
       "      <td>구로고</td>\n",
       "      <td>Python</td>\n",
       "    </tr>\n",
       "    <tr>\n",
       "      <th>2번</th>\n",
       "      <td>강태원</td>\n",
       "      <td>구로고</td>\n",
       "      <td>Java</td>\n",
       "    </tr>\n",
       "    <tr>\n",
       "      <th>3번</th>\n",
       "      <td>강호림</td>\n",
       "      <td>가산고</td>\n",
       "      <td>Javascript</td>\n",
       "    </tr>\n",
       "  </tbody>\n",
       "</table>\n",
       "</div>"
      ],
      "text/plain": [
       "       이름   학교        SW특기\n",
       "지원번호                      \n",
       "1번    강나래  구로고      Python\n",
       "2번    강태원  구로고        Java\n",
       "3번    강호림  가산고  Javascript"
      ]
     },
     "execution_count": 10,
     "metadata": {},
     "output_type": "execute_result"
    }
   ],
   "source": [
    "# row의 데이터 가져오기, 슬라이싱\n",
    "df[0:3] # 0부터 3까지 가져오기\n",
    "df[:4] # 처음부터 4까지 가져오기\n",
    "df # 전체 가져오기\n",
    "df[3:] # 3부터 끝까지 가져오기\n",
    "\n",
    "df[['이름', '학교', 'SW특기']][:3] # 이름, 학교, SW특기 컬럼의 위 3개를 가져오기"
   ]
  },
  {
   "cell_type": "code",
   "execution_count": 11,
   "metadata": {},
   "outputs": [
    {
     "data": {
      "text/html": [
       "<div>\n",
       "<style scoped>\n",
       "    .dataframe tbody tr th:only-of-type {\n",
       "        vertical-align: middle;\n",
       "    }\n",
       "\n",
       "    .dataframe tbody tr th {\n",
       "        vertical-align: top;\n",
       "    }\n",
       "\n",
       "    .dataframe thead th {\n",
       "        text-align: right;\n",
       "    }\n",
       "</style>\n",
       "<table border=\"1\" class=\"dataframe\">\n",
       "  <thead>\n",
       "    <tr style=\"text-align: right;\">\n",
       "      <th></th>\n",
       "      <th>이름</th>\n",
       "      <th>학교</th>\n",
       "      <th>키</th>\n",
       "      <th>국어</th>\n",
       "      <th>영어</th>\n",
       "      <th>수학</th>\n",
       "      <th>사회</th>\n",
       "      <th>SW특기</th>\n",
       "    </tr>\n",
       "    <tr>\n",
       "      <th>지원번호</th>\n",
       "      <th></th>\n",
       "      <th></th>\n",
       "      <th></th>\n",
       "      <th></th>\n",
       "      <th></th>\n",
       "      <th></th>\n",
       "      <th></th>\n",
       "      <th></th>\n",
       "    </tr>\n",
       "  </thead>\n",
       "  <tbody>\n",
       "    <tr>\n",
       "      <th>2번</th>\n",
       "      <td>강태원</td>\n",
       "      <td>구로고</td>\n",
       "      <td>184</td>\n",
       "      <td>40</td>\n",
       "      <td>35</td>\n",
       "      <td>50</td>\n",
       "      <td>25</td>\n",
       "      <td>Java</td>\n",
       "    </tr>\n",
       "    <tr>\n",
       "      <th>3번</th>\n",
       "      <td>강호림</td>\n",
       "      <td>가산고</td>\n",
       "      <td>168</td>\n",
       "      <td>80</td>\n",
       "      <td>75</td>\n",
       "      <td>70</td>\n",
       "      <td>75</td>\n",
       "      <td>Javascript</td>\n",
       "    </tr>\n",
       "  </tbody>\n",
       "</table>\n",
       "</div>"
      ],
      "text/plain": [
       "       이름   학교    키  국어  영어  수학  사회        SW특기\n",
       "지원번호                                           \n",
       "2번    강태원  구로고  184  40  35  50  25        Java\n",
       "3번    강호림  가산고  168  80  75  70  75  Javascript"
      ]
     },
     "execution_count": 11,
     "metadata": {},
     "output_type": "execute_result"
    }
   ],
   "source": [
    "### row의 값을 가져오는 방법 2가지, df 슬라이싱, df.iloc 슬라이싱\n",
    "df[1:3]\n",
    "df.iloc[1:3]"
   ]
  }
 ],
 "metadata": {
  "kernelspec": {
   "display_name": "Python 3",
   "language": "python",
   "name": "python3"
  },
  "language_info": {
   "codemirror_mode": {
    "name": "ipython",
    "version": 3
   },
   "file_extension": ".py",
   "mimetype": "text/x-python",
   "name": "python",
   "nbconvert_exporter": "python",
   "pygments_lexer": "ipython3",
   "version": "3.12.6"
  }
 },
 "nbformat": 4,
 "nbformat_minor": 2
}
