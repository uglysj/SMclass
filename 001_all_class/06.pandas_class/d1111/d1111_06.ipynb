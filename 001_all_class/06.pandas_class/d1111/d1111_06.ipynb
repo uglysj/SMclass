{
 "cells": [
  {
   "cell_type": "code",
   "execution_count": 1,
   "metadata": {},
   "outputs": [],
   "source": [
    "import pandas as pd\n",
    "df = pd.read_csv('chipotle.tsv', sep='\\t')"
   ]
  },
  {
   "cell_type": "code",
   "execution_count": null,
   "metadata": {},
   "outputs": [],
   "source": [
    "### 메뉴별 주문수량 출력\n",
    "df.groupby('item_name')[['quantity']].count()\n",
    "### 메뉴별 총주문량 출력\n",
    "df.groupby('item_name')[['quantity']].sum()\n",
    "### 주문당 평균 계산금액 출력\n",
    "\n",
    "### 아이템별 가격 금액을 출력\n",
    "\n",
    "### 주문별, 높은 가격순으로 주문 개수를 출력\n",
    "\n",
    "### 주문당 평균 계산금액을 출력"
   ]
  }
 ],
 "metadata": {
  "kernelspec": {
   "display_name": "Python 3",
   "language": "python",
   "name": "python3"
  },
  "language_info": {
   "codemirror_mode": {
    "name": "ipython",
    "version": 3
   },
   "file_extension": ".py",
   "mimetype": "text/x-python",
   "name": "python",
   "nbconvert_exporter": "python",
   "pygments_lexer": "ipython3",
   "version": "3.12.6"
  }
 },
 "nbformat": 4,
 "nbformat_minor": 2
}
